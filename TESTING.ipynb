{
 "cells": [
  {
   "cell_type": "markdown",
   "metadata": {},
   "source": [
    "# Testing\n",
    "\n",
    "No real code here, clean up when done."
   ]
  },
  {
   "cell_type": "code",
   "execution_count": 84,
   "metadata": {},
   "outputs": [],
   "source": [
    "import csv\n",
    "import pandas as pd\n",
    "import sqlite3\n",
    "from apartment_comparison.db_manager import ApartmentsDBManager\n",
    "from apartment_comparison.helpers import FEATURE_TYPE_MAP\n",
    "import random\n"
   ]
  },
  {
   "cell_type": "code",
   "execution_count": 4,
   "metadata": {},
   "outputs": [],
   "source": [
    "df = pd.read_csv('apartment_comparison.csv')\n",
    "apts = df.to_dict()\n",
    "records = df.to_dict('records')\n",
    "columns = list(apts.keys())"
   ]
  },
  {
   "cell_type": "code",
   "execution_count": 5,
   "metadata": {},
   "outputs": [],
   "source": [
    "db = ApartmentsDBManager(db_file='apartments.db')\n",
    "db._execute('drop table if exists apartments;')\n",
    "db.execute_sql_file('apartment_comparison/static/sql/create_table.sql')\n",
    "\n",
    "for record in records:\n",
    "    db.add_apartment(record)\n"
   ]
  },
  {
   "cell_type": "code",
   "execution_count": 95,
   "metadata": {},
   "outputs": [],
   "source": [
    "db.get_apartment(2)"
   ]
  },
  {
   "cell_type": "code",
   "execution_count": null,
   "metadata": {},
   "outputs": [],
   "source": []
  }
 ],
 "metadata": {
  "interpreter": {
   "hash": "970aefe1643e25215bd188e5cff924e8f6ab862e4d6e8acd97212707c0cddf25"
  },
  "kernelspec": {
   "display_name": "Python 3.8.12 64-bit ('box-packing-PHMK9_Il-py3.8': poetry)",
   "language": "python",
   "name": "python3"
  },
  "language_info": {
   "codemirror_mode": {
    "name": "ipython",
    "version": 3
   },
   "file_extension": ".py",
   "mimetype": "text/x-python",
   "name": "python",
   "nbconvert_exporter": "python",
   "pygments_lexer": "ipython3",
   "version": "3.10.0"
  },
  "orig_nbformat": 4
 },
 "nbformat": 4,
 "nbformat_minor": 2
}
