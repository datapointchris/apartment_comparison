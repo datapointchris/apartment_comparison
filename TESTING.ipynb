{
 "cells": [
  {
   "cell_type": "markdown",
   "metadata": {},
   "source": [
    "# Testing\n",
    "\n",
    "No real code here, clean up when done."
   ]
  },
  {
   "cell_type": "code",
   "execution_count": 5,
   "metadata": {},
   "outputs": [],
   "source": [
    "import csv\n",
    "import pandas as pd\n",
    "import sqlite3\n",
    "from apartment_comparison.db_manager import ApartmentsDBManager\n",
    "from apartment_comparison.helpers import FEATURE_TYPE_MAP\n",
    "import random\n"
   ]
  },
  {
   "cell_type": "code",
   "execution_count": 6,
   "metadata": {},
   "outputs": [],
   "source": [
    "df = pd.read_csv('apartment_comparison.csv')\n",
    "apts = df.to_dict()\n",
    "records = df.to_dict('records')\n",
    "columns = list(apts.keys())"
   ]
  },
  {
   "cell_type": "code",
   "execution_count": 7,
   "metadata": {},
   "outputs": [],
   "source": [
    "db = ApartmentsDBManager(db_file='apartments.db')\n",
    "db._execute('drop table if exists apartments;')\n",
    "db.execute_sql_file('apartment_comparison/static/sql/create_table.sql')\n",
    "\n",
    "for record in records:\n",
    "    db.add_apartment(record)\n"
   ]
  },
  {
   "cell_type": "code",
   "execution_count": 8,
   "metadata": {},
   "outputs": [
    {
     "data": {
      "text/plain": [
       "{'id': 2,\n",
       " 'name': 'Roehampton',\n",
       " 'address': '18333 Roehampton Dr, Dallas, TX 75252',\n",
       " 'url': 'https://www.apartments.com/18333-roehampton-dr-dallas-tx-unit-721/1dzbbt6/',\n",
       " 'year': None,\n",
       " 'rent': None,\n",
       " 'sqft': None,\n",
       " 'price_per': 0,\n",
       " 'pet_rent': None,\n",
       " 'pet_deposit': None,\n",
       " 'fees': None,\n",
       " 'dishwasher': None,\n",
       " 'washer_dryer': None,\n",
       " 'countertops': None,\n",
       " 'floor_level': None,\n",
       " 'dog_walking': None,\n",
       " 'dog_park': None,\n",
       " 'groceries': None,\n",
       " 'costco': None,\n",
       " 'gym': None,\n",
       " 'apt_gym': None,\n",
       " 'quiet_ac': None,\n",
       " 'ac_filter_can_change': None,\n",
       " 'parking': None,\n",
       " 'smart_thermostat': None,\n",
       " 'electronic_lock': None,\n",
       " 'trails': None,\n",
       " 'bike_lanes': None,\n",
       " 'to_work': None,\n",
       " 'toll_road': None,\n",
       " 'walk_in_closet': None,\n",
       " 'ceiling_fans': 1,\n",
       " 'guest_parking': None,\n",
       " 'notes': None}"
      ]
     },
     "execution_count": 8,
     "metadata": {},
     "output_type": "execute_result"
    }
   ],
   "source": [
    "db.get_apartment(2)"
   ]
  },
  {
   "cell_type": "code",
   "execution_count": null,
   "metadata": {},
   "outputs": [],
   "source": []
  },
  {
   "cell_type": "code",
   "execution_count": null,
   "metadata": {},
   "outputs": [],
   "source": []
  }
 ],
 "metadata": {
  "interpreter": {
   "hash": "970aefe1643e25215bd188e5cff924e8f6ab862e4d6e8acd97212707c0cddf25"
  },
  "kernelspec": {
   "display_name": "Python 3.8.12 64-bit ('box-packing-PHMK9_Il-py3.8': poetry)",
   "language": "python",
   "name": "python3"
  },
  "language_info": {
   "codemirror_mode": {
    "name": "ipython",
    "version": 3
   },
   "file_extension": ".py",
   "mimetype": "text/x-python",
   "name": "python",
   "nbconvert_exporter": "python",
   "pygments_lexer": "ipython3",
   "version": "3.10.0"
  },
  "orig_nbformat": 4
 },
 "nbformat": 4,
 "nbformat_minor": 2
}
