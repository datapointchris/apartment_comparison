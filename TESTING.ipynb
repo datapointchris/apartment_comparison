{
 "cells": [
  {
   "cell_type": "markdown",
   "metadata": {},
   "source": [
    "# Testing\n",
    "\n",
    "No real code here, clean up when done."
   ]
  },
  {
   "cell_type": "code",
   "execution_count": 12,
   "metadata": {},
   "outputs": [],
   "source": [
    "import csv\n",
    "import pandas as pd\n",
    "import sqlite3\n",
    "from apartment_comparison.db_manager import ApartmentsDBManager\n",
    "import random\n"
   ]
  },
  {
   "cell_type": "code",
   "execution_count": 13,
   "metadata": {},
   "outputs": [],
   "source": [
    "df = pd.read_csv('apartment_comparison.csv')\n",
    "apts = df.to_dict()\n",
    "records = df.to_dict('records')\n",
    "columns = list(apts.keys())"
   ]
  },
  {
   "cell_type": "code",
   "execution_count": 14,
   "metadata": {},
   "outputs": [],
   "source": [
    "db = ApartmentsDBManager(db_file='apartments.db')\n",
    "db._execute('drop table if exists apartments;')\n",
    "db._execute('drop table if exists feature_types_mapping;')\n",
    "db.execute_sql_file('apartment_comparison/static/sql/create_tables.sql')\n",
    "\n",
    "for record in records:\n",
    "    db.add_apartment(record)\n"
   ]
  },
  {
   "cell_type": "code",
   "execution_count": 15,
   "metadata": {},
   "outputs": [],
   "source": [
    "# df['address'].to_csv('addresses.csv', header=False, index=False)"
   ]
  },
  {
   "cell_type": "code",
   "execution_count": null,
   "metadata": {},
   "outputs": [],
   "source": []
  },
  {
   "cell_type": "code",
   "execution_count": null,
   "metadata": {},
   "outputs": [],
   "source": []
  },
  {
   "cell_type": "code",
   "execution_count": 18,
   "metadata": {},
   "outputs": [
    {
     "data": {
      "text/plain": [
       "{'id': 'integer',\n",
       " 'name': 'text',\n",
       " 'address': 'text',\n",
       " 'url': 'text',\n",
       " 'year': 'integer',\n",
       " 'rent': 'integer',\n",
       " 'sqft': 'integer',\n",
       " 'price_per': 'integer',\n",
       " 'pet_rent': 'integer',\n",
       " 'pet_deposit': 'integer',\n",
       " 'fees': 'integer',\n",
       " 'dishwasher': 'boolean',\n",
       " 'washer_dryer': 'text',\n",
       " 'countertops': 'text',\n",
       " 'floor_level': 'integer',\n",
       " 'dog_walking': 'integer',\n",
       " 'dog_park': 'boolean',\n",
       " 'groceries': 'integer',\n",
       " 'costco': 'integer',\n",
       " 'gym': 'integer',\n",
       " 'apt_gym': 'integer',\n",
       " 'quiet_ac': 'boolean',\n",
       " 'ac_filter_can_change': 'boolean',\n",
       " 'parking': 'integer',\n",
       " 'smart_thermostat': 'boolean',\n",
       " 'electronic_lock': 'boolean',\n",
       " 'trails': 'integer',\n",
       " 'bike_lanes': 'integer',\n",
       " 'to_work': 'integer',\n",
       " 'toll_road': 'boolean',\n",
       " 'walk_in_closet': 'boolean',\n",
       " 'ceiling_fans': 'boolean',\n",
       " 'guest_parking': 'integer',\n",
       " 'speed_bumps': 'boolean',\n",
       " 'notes': 'text'}"
      ]
     },
     "execution_count": 18,
     "metadata": {},
     "output_type": "execute_result"
    }
   ],
   "source": [
    "db.get_feature_types()"
   ]
  },
  {
   "cell_type": "code",
   "execution_count": 17,
   "metadata": {},
   "outputs": [
    {
     "data": {
      "text/plain": [
       "{'id': 1,\n",
       " 'name': 'MkKinney Pointe',\n",
       " 'address': '2401 McKinney Ranch Pky, McKinney, TX 75070',\n",
       " 'url': 'https://www.apartments.com/mckinney-pointe-mckinney-tx/zl3jg2w/',\n",
       " 'year': None,\n",
       " 'rent': None,\n",
       " 'sqft': None,\n",
       " 'price_per': 0,\n",
       " 'pet_rent': 45,\n",
       " 'pet_deposit': 600,\n",
       " 'fees': 240,\n",
       " 'dishwasher': 1,\n",
       " 'washer_dryer': 'hookup',\n",
       " 'countertops': 'granite',\n",
       " 'floor_level': None,\n",
       " 'dog_walking': None,\n",
       " 'dog_park': None,\n",
       " 'groceries': None,\n",
       " 'costco': None,\n",
       " 'gym': None,\n",
       " 'apt_gym': None,\n",
       " 'quiet_ac': None,\n",
       " 'ac_filter_can_change': None,\n",
       " 'parking': None,\n",
       " 'smart_thermostat': None,\n",
       " 'electronic_lock': None,\n",
       " 'trails': None,\n",
       " 'bike_lanes': None,\n",
       " 'to_work': None,\n",
       " 'toll_road': None,\n",
       " 'walk_in_closet': 1,\n",
       " 'ceiling_fans': 1,\n",
       " 'guest_parking': None,\n",
       " 'speed_bumps': None,\n",
       " 'notes': None}"
      ]
     },
     "execution_count": 17,
     "metadata": {},
     "output_type": "execute_result"
    }
   ],
   "source": [
    "db.get_apartment(1)"
   ]
  },
  {
   "cell_type": "code",
   "execution_count": null,
   "metadata": {},
   "outputs": [],
   "source": []
  }
 ],
 "metadata": {
  "interpreter": {
   "hash": "970aefe1643e25215bd188e5cff924e8f6ab862e4d6e8acd97212707c0cddf25"
  },
  "kernelspec": {
   "display_name": "Python 3.8.12 64-bit ('box-packing-PHMK9_Il-py3.8': poetry)",
   "language": "python",
   "name": "python3"
  },
  "language_info": {
   "codemirror_mode": {
    "name": "ipython",
    "version": 3
   },
   "file_extension": ".py",
   "mimetype": "text/x-python",
   "name": "python",
   "nbconvert_exporter": "python",
   "pygments_lexer": "ipython3",
   "version": "3.10.0"
  },
  "orig_nbformat": 4
 },
 "nbformat": 4,
 "nbformat_minor": 2
}
